{
 "cells": [
  {
   "cell_type": "markdown",
   "metadata": {},
   "source": [
    "# Load Cleaned Sensory Data Collected by master_script"
   ]
  },
  {
   "cell_type": "code",
   "execution_count": 1,
   "metadata": {},
   "outputs": [],
   "source": [
    "%matplotlib inline\n",
    "import matplotlib.pyplot as plt\n",
    "import matplotlib.patches as patches\n",
    "import matplotlib.ticker as ticker\n",
    "\n",
    "import pandas as pd\n",
    "import numpy as np\n",
    "from datetime import datetime\n",
    "import csv\n",
    "import cv2\n",
    "\n",
    "import os\n",
    "import glob\n",
    "\n",
    "import pdb"
   ]
  },
  {
   "cell_type": "code",
   "execution_count": 2,
   "metadata": {},
   "outputs": [
    {
     "name": "stdout",
     "output_type": "stream",
     "text": [
      "Loading: raw_sensor_data_from_master_script_clean/01_sensor_data__September_14_2018_1pm_4pm_clean.csv\n",
      "Loading: raw_sensor_data_from_master_script_clean/02_sensor_data__September_17_2018_1pm_4pm_clean.csv\n",
      "Loading: raw_sensor_data_from_master_script_clean/03_sensor_data__September_18_2018_1pm_4pm_clean.csv\n",
      "Loading: raw_sensor_data_from_master_script_clean/04_sensor_data__September_19_2018_1pm_4pm_clean.csv\n",
      "Loading: raw_sensor_data_from_master_script_clean/05_sensor_data__September_20_2018_1pm_4pm_clean.csv\n",
      "Loading: raw_sensor_data_from_master_script_clean/06_sensor_data__September_21_2018_1pm_4pm_clean.csv\n",
      "Loading: raw_sensor_data_from_master_script_clean/07_sensor_data__September_24_2018_1pm_4pm_clean.csv\n",
      "Loading: raw_sensor_data_from_master_script_clean/08_sensor_data__September_25_2018_1pm_4pm_clean.csv\n",
      "Loading: raw_sensor_data_from_master_script_clean/09_sensor_data__September_26_2018_1pm_4pm_clean.csv\n",
      "Loading: raw_sensor_data_from_master_script_clean/10_sensor_data__September_27_2018_1pm_4pm_clean.csv\n",
      "Loading: raw_sensor_data_from_master_script_clean/11_sensor_data__September_28_2018_1pm_4pm_clean.csv\n",
      "Loading: raw_sensor_data_from_master_script_clean/12_sensor_data__October_02_2018_1pm_4pm_clean.csv\n",
      "Loading: raw_sensor_data_from_master_script_clean/13_sensor_data__October_03_2018_1pm_4pm_clean.csv\n",
      "Loading: raw_sensor_data_from_master_script_clean/14_sensor_data__October_05_2018_1pm_4pm_clean.csv\n"
     ]
    }
   ],
   "source": [
    "import glob\n",
    "raw_sensor_data_files = glob.glob('raw_sensor_data_from_master_script_clean/*.csv')\n",
    "raw_sensor_data_files.sort()\n",
    "raw_sensor_data = {}\n",
    "for file in raw_sensor_data_files:\n",
    "    print('Loading: {}'.format(file))\n",
    "    # 1. load sensro data\n",
    "    raw_sensor_data[file] = pd.read_csv(file)\n",
    "    "
   ]
  },
  {
   "cell_type": "markdown",
   "metadata": {},
   "source": [
    "# Plot Data For Each Day"
   ]
  },
  {
   "cell_type": "code",
   "execution_count": 3,
   "metadata": {},
   "outputs": [],
   "source": [
    "def separate_data_from_different_behavior(raw_sensor_data, date,\n",
    "                                          experiment_schedule_table = 'experiment_schedule_table.csv'):\n",
    "    \"\"\"\n",
    "    Args:\n",
    "        raw_sensor_data (pd.DataFrame): sensor data collect in one day\n",
    "        experiment_schedule_table (string): file name of experiment schedule table which contains schedule of \n",
    "            each day's experiments in where:\n",
    "                0: Prescribed_Behavior\n",
    "                1: Parameterized_Learning_Agent\n",
    "                2: Single_Agent_Raw_Act\n",
    "                3: Agent_Community_Raw_Act\n",
    "    Return:\n",
    "        separated_data (dict): key is the phase name, and value is the data.\n",
    "        phase_code (dict): key is the phase name, and value is the phase code.\n",
    "    \"\"\"\n",
    "    # read experiment schedule file and retrive the schedule of date\n",
    "    experiment_schedule = pd.read_csv(experiment_schedule_table)\n",
    "    phaseschedule = experiment_schedule.loc[experiment_schedule['Date'] == date]\n",
    "    # read schedule code in each interaction phase\n",
    "    phase_1pm_2pm_code = phaseschedule['1pm-2pm'].values\n",
    "    phase_2pm_2_30pm_code = phaseschedule['2pm-2:30pm'].values\n",
    "    phase_2_30pm_3pm_code = phaseschedule['2:30pm-3pm'].values\n",
    "    phase_3pm_4pm_code = phaseschedule['3pm-4pm'].values\n",
    "    # separate data\n",
    "    date, time = raw_sensor_data['timestamp'][0].split(' ')\n",
    "    \n",
    "    phase_1pm_2pm_data = raw_sensor_data.loc[(raw_sensor_data['timestamp'] >= date+' '+'13:00:00') & (raw_sensor_data['timestamp'] <= date+' '+'14:00:00')]\n",
    "    phase_2pm_2_30pm_data = raw_sensor_data.loc[(raw_sensor_data['timestamp'] >= date+' '+'14:00:00') & (raw_sensor_data['timestamp'] <= date+' '+'14:30:00')]\n",
    "    phase_2_30pm_3pm_data = raw_sensor_data.loc[(raw_sensor_data['timestamp'] >= date+' '+'14:30:00') & (raw_sensor_data['timestamp'] <= date+' '+'15:00:00')]\n",
    "    phase_3pm_4pm_data = raw_sensor_data.loc[(raw_sensor_data['timestamp'] >= date+' '+'15:00:00') & (raw_sensor_data['timestamp'] <= date+' '+'16:00:00')]\n",
    "    \n",
    "    phase_data = {}\n",
    "    phase_code = {}\n",
    "    # combine phase with the same phase_code\n",
    "    if (phase_1pm_2pm_code == phase_2pm_2_30pm_code) and (phase_2_30pm_3pm_code == phase_3pm_4pm_code):\n",
    "        phase_data['phase_1pm_2_30pm'] = pd.concat([phase_1pm_2pm_data, phase_2pm_2_30pm_data])\n",
    "        phase_data['phase_2_30pm_4pm'] = pd.concat([phase_2_30pm_3pm_data, phase_3pm_4pm_data])\n",
    "        \n",
    "        phase_code['phase_1pm_2_30pm'] = phase_1pm_2pm_code\n",
    "        phase_code['phase_2_30pm_4pm'] = phase_2_30pm_3pm_code\n",
    "    elif (phase_2pm_2_30pm_code == phase_2_30pm_3pm_code) and (phase_1pm_2pm_code != phase_2pm_2_30pm_code):\n",
    "        phase_data['phase_2pm_3pm'] = pd.concat([phase_2pm_2_30pm_data, phase_2_30pm_3pm_data])\n",
    "        phase_data['phase_1pm_2pm'] = phase_1pm_2pm_data\n",
    "        phase_data['phase_3pm_4pm'] = phase_3pm_4pm_data\n",
    "        \n",
    "        phase_code['phase_2pm_3pm'] = phase_2pm_2_30pm_code\n",
    "        phase_code['phase_1pm_2pm'] = phase_1pm_2pm_code\n",
    "        phase_code['phase_3pm_4pm'] = phase_3pm_4pm_code\n",
    "    elif (phase_1pm_2pm_code == phase_2pm_2_30pm_code) and (phase_2pm_2_30pm_code == phase_2_30pm_3pm_code):\n",
    "        phase_data['phase_1pm_3pm'] = pd.concat([phase_1pm_2pm_data, phase_2pm_2_30pm_data, phase_2_30pm_3pm_data])\n",
    "        phase_data['phase_3pm_4pm'] = phase_3pm_4pm_data\n",
    "        \n",
    "        phase_code['phase_1pm_3pm'] = phase_1pm_2pm_code\n",
    "        phase_code['phase_3pm_4pm'] = phase_3pm_4pm_code\n",
    "    else:\n",
    "        print('phase_1pm_2pm_code:{} phase_2pm_2_30pm_code:{}  phase_2_30pm_3pm_code: {} phase_3pm_4pm_code:{}'.format(phase_1pm_2pm_code,phase_2pm_2_30pm_code,phase_2_30pm_3pm_code,phase_3pm_4pm_code))\n",
    "        raise Exception('Check {} to spot the error.'.format(experiment_schedule_table))\n",
    "    \n",
    "    return phase_data, phase_code\n",
    "    \n",
    "def plot_reward_signal(raw_sensor_data, filename):\n",
    "    \"\"\"\n",
    "    Args:\n",
    "        raw_sensor_data (pd.DataFrame): the data\n",
    "        filename (string): the name of the date file\n",
    "    \"\"\"\n",
    "    ymin=0\n",
    "    ymax=3\n",
    "    ystep=0.2\n",
    "    \n",
    "    # separate data from different behavior\n",
    "    # find the date of raw_sensor_data\n",
    "    _, date = filename.split('_2018')[0].split('sensor_data__')\n",
    "    print(date)\n",
    "    phase_data, phase_code = separate_data_from_different_behavior(raw_sensor_data, date,\n",
    "                                                                   experiment_schedule_table = 'experiment_schedule_table.csv')\n",
    "    #pdb.set_trace()\n",
    "    \n",
    "    # plot data\n",
    "    plt.figure()\n",
    "    legend_label = []\n",
    "    for phase_name in phase_data.keys():\n",
    "        if phase_code[phase_name] == 0:   # Prescribed_Behavior\n",
    "            color = 'k'\n",
    "            legend_label.append('Prescribed_Behavior')\n",
    "        elif phase_code[phase_name] == 1: # Parameterized_Learning_Agent\n",
    "            color = 'r'\n",
    "            legend_label.append('Parameterized_Learning_Agent')\n",
    "        elif phase_code[phase_name] == 2: # Single_Agent_Raw_Act\n",
    "            color = 'b'\n",
    "            legend_label.append('Single_Agent_Raw_Act')\n",
    "        else:                             # Agent_Community_Raw_Act\n",
    "            color = 'g'\n",
    "            legend_label.append('Agent_Community_Raw_Act')\n",
    "        plt.plot(phase_data[phase_name]['timestamp'], phase_data[phase_name]['reward_IR_distance'], color = color, lw=1, alpha=0.8)\n",
    "    \n",
    "    plt.legend(legend_label)\n",
    "    \n",
    "    plt.xlabel('time/second')\n",
    "    plt.ylabel('reward')\n",
    "    plt.ylim(ymin, ymax, ystep)\n",
    "    plt.xticks(rotation=45, fontsize = 12)\n",
    "    plt.title('Reward: {}'.format(date))\n",
    "    plt.grid(True, linestyle=':')\n",
    "    plt.tight_layout()"
   ]
  },
  {
   "cell_type": "code",
   "execution_count": null,
   "metadata": {},
   "outputs": [
    {
     "name": "stdout",
     "output_type": "stream",
     "text": [
      "September_14\n"
     ]
    }
   ],
   "source": [
    "for file in raw_sensor_data.keys():\n",
    "    _, filename = file.split('/')\n",
    "    plot_reward_signal(raw_sensor_data[file], filename)"
   ]
  },
  {
   "cell_type": "markdown",
   "metadata": {},
   "source": [
    "# Concate Data from the Same Behavior Mode"
   ]
  },
  {
   "cell_type": "code",
   "execution_count": 3,
   "metadata": {},
   "outputs": [
    {
     "ename": "NameError",
     "evalue": "name 'separate_data_from_different_behavior' is not defined",
     "output_type": "error",
     "traceback": [
      "\u001b[0;31m---------------------------------------------------------------------------\u001b[0m",
      "\u001b[0;31mNameError\u001b[0m                                 Traceback (most recent call last)",
      "\u001b[0;32m<ipython-input-3-fcd1e974d106>\u001b[0m in \u001b[0;36m<module>\u001b[0;34m()\u001b[0m\n\u001b[1;32m     23\u001b[0m     \u001b[0m_\u001b[0m\u001b[0;34m,\u001b[0m \u001b[0mdate\u001b[0m \u001b[0;34m=\u001b[0m \u001b[0mfilename\u001b[0m\u001b[0;34m.\u001b[0m\u001b[0msplit\u001b[0m\u001b[0;34m(\u001b[0m\u001b[0;34m'_2018'\u001b[0m\u001b[0;34m)\u001b[0m\u001b[0;34m[\u001b[0m\u001b[0;36m0\u001b[0m\u001b[0;34m]\u001b[0m\u001b[0;34m.\u001b[0m\u001b[0msplit\u001b[0m\u001b[0;34m(\u001b[0m\u001b[0;34m'sensor_data__'\u001b[0m\u001b[0;34m)\u001b[0m\u001b[0;34m\u001b[0m\u001b[0m\n\u001b[1;32m     24\u001b[0m \u001b[0;34m\u001b[0m\u001b[0m\n\u001b[0;32m---> 25\u001b[0;31m     phase_data, phase_code = separate_data_from_different_behavior(raw_sensor_data[file], date,\n\u001b[0m\u001b[1;32m     26\u001b[0m                                                                    experiment_schedule_table = 'experiment_schedule_table.csv')\n\u001b[1;32m     27\u001b[0m     \u001b[0;32mif\u001b[0m \u001b[0;34m'September'\u001b[0m\u001b[0;32min\u001b[0m \u001b[0mdate\u001b[0m\u001b[0;34m:\u001b[0m\u001b[0;34m\u001b[0m\u001b[0m\n",
      "\u001b[0;31mNameError\u001b[0m: name 'separate_data_from_different_behavior' is not defined"
     ]
    }
   ],
   "source": [
    "prescribed_behavior = {}\n",
    "prescribed_behavior['data'] = pd.DataFrame()\n",
    "prescribed_behavior['separate_line'] = []\n",
    "prescribed_behavior['date'] = []\n",
    "\n",
    "para_learning_agent = {}\n",
    "para_learning_agent['data'] = pd.DataFrame()\n",
    "para_learning_agent['separate_line'] = []\n",
    "para_learning_agent['date'] = []\n",
    "\n",
    "single_agent_raw_act = {}\n",
    "single_agent_raw_act['data'] = pd.DataFrame()\n",
    "single_agent_raw_act['separate_line'] = []\n",
    "single_agent_raw_act['date'] = []\n",
    "\n",
    "agent_coummunity_raw_act = {}\n",
    "agent_coummunity_raw_act['data'] = pd.DataFrame()\n",
    "agent_coummunity_raw_act['separate_line'] = []\n",
    "agent_coummunity_raw_act['date'] = []\n",
    "\n",
    "for file in raw_sensor_data.keys():\n",
    "    _, filename = file.split('/')\n",
    "    _, date = filename.split('_2018')[0].split('sensor_data__')\n",
    "    \n",
    "    phase_data, phase_code = separate_data_from_different_behavior(raw_sensor_data[file], date,\n",
    "                                                                   experiment_schedule_table = 'experiment_schedule_table.csv')\n",
    "    if 'September'in date:\n",
    "        date = date.replace('September','Sep')\n",
    "    elif 'October' in date:\n",
    "        date = date.replace('October','Oct')\n",
    "    else:\n",
    "        pass\n",
    "    for phase_name in phase_data.keys():\n",
    "        if phase_code[phase_name] == 0:   # Prescribed_Behavior\n",
    "            prescribed_behavior['data'] = pd.concat([prescribed_behavior['data'], phase_data[phase_name]])\n",
    "            prescribed_behavior['separate_line'].append(len(prescribed_behavior['data']))\n",
    "            \n",
    "            prescribed_behavior['date'].append(date)\n",
    "        elif phase_code[phase_name] == 1: # Parameterized_Learning_Agent\n",
    "            para_learning_agent['data'] = pd.concat([para_learning_agent['data'], phase_data[phase_name]])\n",
    "            para_learning_agent['separate_line'].append(len(para_learning_agent['data']))\n",
    "            para_learning_agent['date'].append(date)\n",
    "        elif phase_code[phase_name] == 2: # Single_Agent_Raw_Act\n",
    "            single_agent_raw_act['data'] = pd.concat([single_agent_raw_act['data'], phase_data[phase_name]])\n",
    "            single_agent_raw_act['separate_line'].append(len(single_agent_raw_act['data']))\n",
    "            single_agent_raw_act['date'].append(date)\n",
    "        elif phase_code[phase_name] == 3: # Agent_Community_Raw_Act\n",
    "            agent_coummunity_raw_act['data'] = pd.concat([agent_coummunity_raw_act['data'], phase_data[phase_name]])\n",
    "            agent_coummunity_raw_act['separate_line'].append(len(agent_coummunity_raw_act['data']))\n",
    "            agent_coummunity_raw_act['date'].append(date)\n",
    "        else:                             # Dirty data\n",
    "            pass"
   ]
  },
  {
   "cell_type": "code",
   "execution_count": null,
   "metadata": {},
   "outputs": [],
   "source": [
    "def plot_reward_from_one_behavior_mode(data, behavior_mode):\n",
    "        plt.figure()\n",
    "        plt.plot(np.arange(len(data['data']['reward_IR_distance'])), data['data']['reward_IR_distance'])\n",
    "        plt.xlabel('Step')\n",
    "        for i, separate_line in enumerate(data['separate_line']):\n",
    "            plt.axvline(x = separate_line, color = 'k', linestyle=':')\n",
    "            if i == 0:\n",
    "                middle = data['separate_line'][i]*0.35\n",
    "                plt.text(middle, 2, data['date'][i], rotation=90, verticalalignment='center')\n",
    "            else:\n",
    "                middle = data['separate_line'][i-1]+(data['separate_line'][i]-data['separate_line'][i-1])*0.35\n",
    "                plt.text(middle, 2, data['date'][i], rotation=90, verticalalignment='center')\n",
    "        rect = patches.Rectangle((0,0.5), len(data['data']['reward_IR_distance']), 1, fill = False, color = 'r', linestyle='--',linewidth = 2)\n",
    "        ax = plt.gca()\n",
    "        ax.add_patch(rect)\n",
    "        plt.ylabel('Reward')\n",
    "        plt.ylim(0,2.5,0.25)\n",
    "        plt.title('Reward: {}'.format(behavior_mode))\n",
    "        #plt.grid(True)\n",
    "        #plt.tight_layout()"
   ]
  },
  {
   "cell_type": "code",
   "execution_count": null,
   "metadata": {},
   "outputs": [],
   "source": []
  }
 ],
 "metadata": {
  "kernelspec": {
   "display_name": "Python 3",
   "language": "python",
   "name": "python3"
  },
  "language_info": {
   "codemirror_mode": {
    "name": "ipython",
    "version": 3
   },
   "file_extension": ".py",
   "mimetype": "text/x-python",
   "name": "python",
   "nbconvert_exporter": "python",
   "pygments_lexer": "ipython3",
   "version": "3.6.4"
  }
 },
 "nbformat": 4,
 "nbformat_minor": 2
}
